{
 "metadata": {
  "language_info": {
   "codemirror_mode": {
    "name": "ipython",
    "version": 3
   },
   "file_extension": ".py",
   "mimetype": "text/x-python",
   "name": "python",
   "nbconvert_exporter": "python",
   "pygments_lexer": "ipython3",
   "version": "3.8.5-final"
  },
  "orig_nbformat": 2,
  "kernelspec": {
   "name": "julia-1.5",
   "display_name": "Julia 1.5.2",
   "language": "julia"
  }
 },
 "nbformat": 4,
 "nbformat_minor": 2,
 "cells": [
  {
   "source": [
    "# Day 1:\n",
    "## --- Report Repair ---"
   ],
   "cell_type": "markdown",
   "metadata": {}
  },
  {
   "cell_type": "code",
   "execution_count": 10,
   "metadata": {},
   "outputs": [
    {
     "output_type": "stream",
     "name": "stdout",
     "text": [
      "Part 1:\n",
      "1632\t388\t633216\n",
      "388\t1632\t633216\n",
      "Part2:\n",
      "1607\t196\t217\t68348924\n",
      "1607\t217\t196\t68348924\n",
      "196\t1607\t217\t68348924\n",
      "196\t217\t1607\t68348924\n",
      "217\t1607\t196\t68348924\n",
      "217\t196\t1607\t68348924\n"
     ]
    }
   ],
   "source": [
    "using DelimitedFiles\n",
    "f = open(\"d01p1-input.txt\")\n",
    "data = readdlm(f, '\\t', Int, '\\n')\n",
    "close(f)\n",
    "println(\"Part 1:\")\n",
    "for x in data\n",
    "\tfor y in data\n",
    "\t\tif (x + y) == 2020\n",
    "            println(x, \"\\t\", y, \"\\t\",(x*y))\n",
    "        end\n",
    "    end\n",
    "end\n",
    "println(\"Part2:\")\n",
    "for x in data\n",
    "\tfor y in data\n",
    "        for z in data\n",
    "        \tif (x + y + z) == 2020\n",
    "                println(x, \"\\t\", y, \"\\t\", z,\"\\t\",(x*y*z))\n",
    "            end\n",
    "        end\n",
    "    end\n",
    "end\n"
   ]
  },
  {
   "source": [
    "# Day 2:\n",
    "## --- Password Philosophy ---\n"
   ],
   "cell_type": "markdown",
   "metadata": {}
  },
  {
   "cell_type": "code",
   "execution_count": 11,
   "metadata": {},
   "outputs": [
    {
     "output_type": "stream",
     "name": "stdout",
     "text": [
      "Part 1: Valid passwords: 422\n",
      "Part 2: Valid passwords: 451\n"
     ]
    }
   ],
   "source": [
    "using DelimitedFiles\n",
    "\n",
    "f = open(\"d02-input.txt\")\n",
    "data = readdlm(f, '\\t', String, '\\n')\n",
    "close(f)\n",
    "\n",
    "# data = [x.strip().split() for x in data]\n",
    "valid = 0\n",
    "for row in 1:length(data)\n",
    "\t# min value = split(split(data[row])[1],\"-\")[1]\n",
    "\t# max value = split(split(data[row])[1],\"-\")[2]\n",
    "\t# character = split(split(data[row])[2],\":\")[1]\n",
    "\t# password to test = split(data[row])[3]\n",
    "\t# number occurances of letter = length(collect(eachmatch(Regex(split(split(data[row])[2],\":\")[1]), split(data[row])[3])))\n",
    "\tmaximum = parse(Int, split(split(data[row])[1],\"-\")[2])\n",
    "\tminimum = parse(Int, split(split(data[row])[1],\"-\")[1])\n",
    "    char_count = length(collect(eachmatch(Regex(split(split(data[row])[2],\":\")[1]), split(data[row])[3])))\n",
    "\tglobal valid += (char_count >= minimum) * (char_count <= maximum)\n",
    "end\n",
    "println(\"Part 1: Valid passwords: \", valid)\n",
    "\n",
    "valid = 0\n",
    "for row in 1:length(data)\n",
    "\t# char_pos_1 = split(split(data[row])[1],\"-\")[1]\n",
    "\t# char_pos_2 = split(split(data[row])[1],\"-\")[2]\n",
    "\t# character = split(split(data[row])[2],\":\")[1]\n",
    "\t# password to test = split(data[row])[3]\n",
    "\t# number occurances of letter = length(collect(eachmatch(Regex(split(split(data[row])[2],\":\")[1]), split(data[row])[3])))\n",
    "    test_char = split(split(data[row])[2],\":\")[1][1]\n",
    "    password = split(data[row])[3]\n",
    "\tchar_pos_2 = parse(Int, split(split(data[row])[1],\"-\")[2])\n",
    "    char_pos_1 = parse(Int, split(split(data[row])[1],\"-\")[1])\n",
    "    if (password[char_pos_1] == test_char && password[char_pos_2] != test_char) || (password[char_pos_1] != test_char && password[char_pos_2] == test_char)\n",
    "        global valid = valid + 1\n",
    "    end\n",
    "end\n",
    "println(\"Part 2: Valid passwords: \", valid)\n"
   ]
  },
  {
   "source": [
    "# Day 3:\n",
    "## --- Toboggan Trajectory ---"
   ],
   "cell_type": "markdown",
   "metadata": {}
  },
  {
   "cell_type": "code",
   "execution_count": 12,
   "metadata": {},
   "outputs": [
    {
     "output_type": "stream",
     "name": "stdout",
     "text": [
      "Trees encountered: 209"
     ]
    }
   ],
   "source": [
    "using DelimitedFiles\n",
    "\n",
    "f = open(\"d03-input.txt\")\n",
    "data = readdlm(f, '\\t', String, '\\n')\n",
    "close(f)\n",
    "global trees = 0\n",
    "global col = 1\n",
    "global line_length = length(data[1])\n",
    "for row in 1:length(data)\n",
    "    if data[row][col] == '#'\n",
    "        global trees += 1\n",
    "    end\n",
    "    global col = (col + 2) % (line_length)+1 # julia doesnt allow zero index - this calulates across 2 mod line_length then adds one to make total across 3\n",
    "end\n",
    "print(\"Trees encountered: $trees\")\n"
   ]
  }
 ]
}
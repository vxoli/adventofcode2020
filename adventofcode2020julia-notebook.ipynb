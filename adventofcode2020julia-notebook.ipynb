{
 "metadata": {
  "language_info": {
   "codemirror_mode": {
    "name": "ipython",
    "version": 3
   },
   "file_extension": ".py",
   "mimetype": "text/x-python",
   "name": "python",
   "nbconvert_exporter": "python",
   "pygments_lexer": "ipython3",
   "version": "3.8.5-final"
  },
  "orig_nbformat": 2,
  "kernelspec": {
   "name": "julia-1.5",
   "display_name": "Julia 1.5.2",
   "language": "julia"
  }
 },
 "nbformat": 4,
 "nbformat_minor": 2,
 "cells": [
  {
   "source": [
    "# Day 1:\n",
    "## --- Report Repair ---"
   ],
   "cell_type": "markdown",
   "metadata": {}
  },
  {
   "cell_type": "code",
   "execution_count": 2,
   "metadata": {},
   "outputs": [
    {
     "output_type": "stream",
     "name": "stdout",
     "text": [
      "Part 1:\n",
      "1632\t388\t633216\n",
      "388\t1632\t633216\n",
      "Part2:\n",
      "1607\t196\t217\t68348924\n",
      "1607\t217\t196\t68348924\n",
      "196\t1607\t217\t68348924\n",
      "196\t217\t1607\t68348924\n",
      "217\t1607\t196\t68348924\n",
      "217\t196\t1607\t68348924\n"
     ]
    }
   ],
   "source": [
    "using DelimitedFiles\n",
    "f = open(\"d01p1-input.txt\")\n",
    "data = readdlm(f, '\\t', Int, '\\n')\n",
    "close(f)\n",
    "println(\"Part 1:\")\n",
    "for x in data\n",
    "\tfor y in data\n",
    "\t\tif (x + y) == 2020\n",
    "            println(x, \"\\t\", y, \"\\t\",(x*y))\n",
    "        end\n",
    "    end\n",
    "end\n",
    "println(\"Part2:\")\n",
    "for x in data\n",
    "\tfor y in data\n",
    "        for z in data\n",
    "        \tif (x + y + z) == 2020\n",
    "                println(x, \"\\t\", y, \"\\t\", z,\"\\t\",(x*y*z))\n",
    "            end\n",
    "        end\n",
    "    end\n",
    "end\n"
   ]
  },
  {
   "source": [
    "# Day 2:\n",
    "## --- Password Philosophy ---\n"
   ],
   "cell_type": "markdown",
   "metadata": {}
  },
  {
   "cell_type": "code",
   "execution_count": 3,
   "metadata": {},
   "outputs": [
    {
     "output_type": "stream",
     "name": "stdout",
     "text": [
      "Part 1: Valid passwords: 422\nPart 2: Valid passwords: 451\n"
     ]
    }
   ],
   "source": [
    "using DelimitedFiles\n",
    "\n",
    "f = open(\"d02-input.txt\")\n",
    "data = readdlm(f, '\\t', String, '\\n')\n",
    "close(f)\n",
    "\n",
    "# data = [x.strip().split() for x in data]\n",
    "valid = 0\n",
    "for row in 1:length(data)\n",
    "\t# min value = split(split(data[row])[1],\"-\")[1]\n",
    "\t# max value = split(split(data[row])[1],\"-\")[2]\n",
    "\t# character = split(split(data[row])[2],\":\")[1]\n",
    "\t# password to test = split(data[row])[3]\n",
    "\t# number occurances of letter = length(collect(eachmatch(Regex(split(split(data[row])[2],\":\")[1]), split(data[row])[3])))\n",
    "\tmaximum = parse(Int, split(split(data[row])[1],\"-\")[2])\n",
    "\tminimum = parse(Int, split(split(data[row])[1],\"-\")[1])\n",
    "    char_count = length(collect(eachmatch(Regex(split(split(data[row])[2],\":\")[1]), split(data[row])[3])))\n",
    "\tglobal valid += (char_count >= minimum) * (char_count <= maximum)\n",
    "end\n",
    "println(\"Part 1: Valid passwords: \", valid)\n",
    "\n",
    "valid = 0\n",
    "for row in 1:length(data)\n",
    "\t# char_pos_1 = split(split(data[row])[1],\"-\")[1]\n",
    "\t# char_pos_2 = split(split(data[row])[1],\"-\")[2]\n",
    "\t# character = split(split(data[row])[2],\":\")[1]\n",
    "\t# password to test = split(data[row])[3]\n",
    "\t# number occurances of letter = length(collect(eachmatch(Regex(split(split(data[row])[2],\":\")[1]), split(data[row])[3])))\n",
    "    test_char = split(split(data[row])[2],\":\")[1][1]\n",
    "    password = split(data[row])[3]\n",
    "\tchar_pos_2 = parse(Int, split(split(data[row])[1],\"-\")[2])\n",
    "    char_pos_1 = parse(Int, split(split(data[row])[1],\"-\")[1])\n",
    "    if (password[char_pos_1] == test_char && password[char_pos_2] != test_char) || (password[char_pos_1] != test_char && password[char_pos_2] == test_char)\n",
    "        global valid = valid + 1\n",
    "    end\n",
    "end\n",
    "println(\"Part 2: Valid passwords: \", valid)\n"
   ]
  },
  {
   "source": [
    "# Day 3:\n",
    "## --- Toboggan Trajectory ---"
   ],
   "cell_type": "markdown",
   "metadata": {}
  },
  {
   "cell_type": "code",
   "execution_count": 4,
   "metadata": {},
   "outputs": [
    {
     "output_type": "stream",
     "name": "stdout",
     "text": [
      "Part 1: Trees encountered= 209\n",
      "Part 2: Trees product= 1574890240\n"
     ]
    }
   ],
   "source": [
    "using DelimitedFiles\n",
    "# Read data file\n",
    "f = open(\"d03-input.txt\")\n",
    "data = readdlm(f, '\\t', String, '\\n')\n",
    "close(f)\n",
    "#Part 1\n",
    "global trees = 0\n",
    "global col = 1\n",
    "global line_length = length(data[1])\n",
    "for row in 1:length(data)\n",
    "    if data[row][col] == '#'\n",
    "        global trees += 1\n",
    "    end\n",
    "    global col = (col + 2) % (line_length)+1 # julia doesnt allow zero index - this calulates across 2 mod line_length then adds one to make total across 3\n",
    "end\n",
    "println(\"Part 1: Trees encountered= $trees\")\n",
    "# Part 2\n",
    "trees =0 \n",
    "col = 1\n",
    "routes = [(1,1),(3,1),(5,1),(7,1),(1,2)]\n",
    "answer = 0\n",
    "for route in 1:length(routes)\n",
    "    # reset variables fro the route\n",
    "    global col = 1\n",
    "    global trees = 0\n",
    "    for row in 1:routes[route][2]:length(data)\n",
    "        if data[row][col] == '#'\n",
    "            global trees = trees + 1\n",
    "        end\n",
    "        global col = (col + routes[route][1]-1) % (line_length)+1\n",
    "    end\n",
    "    if answer != 0\n",
    "        global answer = answer * trees\n",
    "    else\n",
    "        global answer = trees\n",
    "    end\n",
    "end\n",
    "println(\"Part 2: Trees product= $answer\")\n"
   ]
  },
  {
   "source": [
    "# Day 4: \n",
    "## --- Passport Processing ---"
   ],
   "cell_type": "markdown",
   "metadata": {}
  },
  {
   "cell_type": "code",
   "execution_count": 5,
   "metadata": {},
   "outputs": [
    {
     "output_type": "stream",
     "name": "stdout",
     "text": [
      "Part 1: Valid passports = 250\nPart 2: Valid passports = 161\n"
     ]
    }
   ],
   "source": [
    "f = open(\"d04-input.txt\", \"r\")\n",
    "data = read(f, String)\n",
    "close(f)\n",
    "# clean data\n",
    "# need to strip the double '\\n\\n' indicates new passport data - strip from the dataset\n",
    "data = split(data, \"\\n\\n\")\n",
    "# replace remaining eol (\\n) chars in string with spaces\n",
    "for i in 1:length(data)\n",
    "    global data[i] = replace(data[i], \"\\n\" => \" \")\n",
    "end\n",
    "\n",
    "validpart1 = 0\n",
    "validpart2 = 0\n",
    "for (index, passport) in enumerate(data)\n",
    "    # the following test check for valid passports in part 1, and is first test for part 2\n",
    "    if occursin(\"byr\", passport) & occursin(\"iyr\", passport) & occursin(\"eyr\", passport) & occursin(\"hgt\", passport) & occursin(\"hcl\", passport) & occursin(\"ecl\", passport) & occursin(\"pid\", passport)\n",
    "        global validpart1 = validpart1 + 1\n",
    "\n",
    "        # start of checks for part 2\n",
    "        # determine birth year byr\n",
    "        byr = parse(Int, split(split(split(passport, \"byr\")[2], \":\")[2], \" \")[1])\n",
    "        # determine issue year iyr\n",
    "        iyr = parse(Int, split(split(split(passport, \"iyr\")[2], \":\")[2], \" \")[1])\n",
    "        # determine expiration year eyr \n",
    "        eyr = parse(Int, split(split(split(passport, \"eyr\")[2], \":\")[2], \" \")[1])\n",
    "        # determine height hgt & units\n",
    "        hgt_length = length(split(split(split(passport, \"hgt\")[2], \":\")[2], \" \")[1])\n",
    "        # check units included\n",
    "        hgt_unit = split(split(split(passport, \"hgt\")[2], \":\")[2], \" \")[1][hgt_length-1:hgt_length]\n",
    "        if !occursin(r\"cm|in\", hgt_unit) continue end\n",
    "        hgt = parse(Int, split(split(split(passport, \"hgt\")[2], \":\")[2], \" \")[1][1:hgt_length-2])\n",
    "        # determine hair colour hcl\n",
    "        hcl = split(split(split(passport, \"hcl\")[2], \":\")[2], \" \")[1]\n",
    "        # determine eye colour ecl\n",
    "        ecl = split(split(split(passport, \"ecl\")[2], \":\")[2], \" \")[1]\n",
    "        # determine passport id pid\n",
    "        pid = split(split(split(passport, \"pid\")[2], \":\")[2], \" \")[1]\n",
    "        # ignore cid\n",
    "\n",
    "        # check if parameters in range\n",
    "        # byr (Birth Year) - four digits; at least 1920 and at most 2002.\n",
    "        # iyr (Issue Year) - four digits; at least 2010 and at most 2020.\n",
    "        # eyr (Expiration Year) - four digits; at least 2020 and at most 2030.\n",
    "        # hgt (Height) - a number followed by either cm or in:\n",
    "        # If cm, the number must be at least 150 and at most 193.\n",
    "        # If in, the number must be at least 59 and at most 76.\n",
    "        # hcl (Hair Color) - a # followed by exactly six characters 0-9 or a-f.\n",
    "        # ecl (Eye Color) - exactly one of: amb blu brn gry grn hzl oth.\n",
    "        # pid (Passport ID) - a nine-digit number, including leading zeroes.\n",
    "        # cid (Country ID) - ignored, missing or not.\n",
    "        if ((byr >= 1920) & (byr <= 2002)) & \n",
    "            ((iyr >= 2010 & iyr <= 2020)) & \n",
    "            ((eyr >= 2020) & (eyr <= 2030)) & \n",
    "            occursin(r\"^#[0-9A-Fa-f]{6}$\", hcl) & \n",
    "            occursin(r\"amb|blu|brn|gry|grn|hzl|oth\", ecl) & \n",
    "            occursin(r\"\\d{9}\", pid) & \n",
    "            (((hgt_unit == \"cm\") & (hgt >= 150) & (hgt <= 193)) | ((hgt_unit == \"in\") & (hgt >=59) & (hgt <= 76)))\n",
    "            global validpart2 = validpart2 + 1\n",
    "        end # if ((byr >= ....))\n",
    "\n",
    "    end #if occursin\n",
    "end #for passport in data\n",
    "\n",
    "println(\"Part 1: Valid passports = $validpart1\")\n",
    "println(\"Part 2: Valid passports = $validpart2\")\n",
    "\n"
   ]
  },
  {
   "source": [
    "# Day 5\n",
    "## --- Binary Boarding ---"
   ],
   "cell_type": "markdown",
   "metadata": {}
  }
 ]
}
{
 "metadata": {
  "language_info": {
   "codemirror_mode": {
    "name": "ipython",
    "version": 3
   },
   "file_extension": ".py",
   "mimetype": "text/x-python",
   "name": "python",
   "nbconvert_exporter": "python",
   "pygments_lexer": "ipython3",
   "version": "3.8.5-final"
  },
  "orig_nbformat": 2,
  "kernelspec": {
   "name": "julia-1.5",
   "display_name": "Julia 1.5.2",
   "language": "julia"
  }
 },
 "nbformat": 4,
 "nbformat_minor": 2,
 "cells": [
  {
   "source": [
    "# Day 1:\n",
    "## --- Report Repair ---"
   ],
   "cell_type": "markdown",
   "metadata": {}
  },
  {
   "cell_type": "code",
   "execution_count": 1,
   "metadata": {},
   "outputs": [
    {
     "output_type": "stream",
     "name": "stdout",
     "text": [
      "Part 1:\n",
      "1632\t388\t633216\n",
      "388\t1632\t633216\n",
      "Part2:\n",
      "1607\t196\t217\t68348924\n",
      "1607\t217\t196\t68348924\n",
      "196\t1607\t217\t68348924\n",
      "196\t217\t1607\t68348924\n",
      "217\t1607\t196\t68348924\n",
      "217\t196\t1607\t68348924\n"
     ]
    }
   ],
   "source": [
    "using DelimitedFiles\n",
    "f = open(\"d01p1-input.txt\")\n",
    "data = readdlm(f, '\\t', Int, '\\n')\n",
    "close(f)\n",
    "println(\"Part 1:\")\n",
    "for x in data\n",
    "\tfor y in data\n",
    "\t\tif (x + y) == 2020\n",
    "            println(x, \"\\t\", y, \"\\t\",(x*y))\n",
    "        end\n",
    "    end\n",
    "end\n",
    "println(\"Part2:\")\n",
    "for x in data\n",
    "\tfor y in data\n",
    "        for z in data\n",
    "        \tif (x + y + z) == 2020\n",
    "                println(x, \"\\t\", y, \"\\t\", z,\"\\t\",(x*y*z))\n",
    "            end\n",
    "        end\n",
    "    end\n",
    "end\n"
   ]
  },
  {
   "source": [
    "# Day 2:\n",
    "## --- Password Philosophy ---\n"
   ],
   "cell_type": "markdown",
   "metadata": {}
  },
  {
   "cell_type": "code",
   "execution_count": null,
   "metadata": {},
   "outputs": [],
   "source": []
  }
 ]
}